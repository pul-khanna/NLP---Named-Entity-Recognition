{
 "cells": [
  {
   "cell_type": "markdown",
   "metadata": {},
   "source": [
    "<h1><center><b> Named Entity Recognition </b></center></h1>\n",
    "\n",
    "#### NER is used for extraction such entities from the text as persons, organizations, locations, etc. Here we try to recognize named entities from Twitter with LSTMs"
   ]
  },
  {
   "cell_type": "markdown",
   "metadata": {},
   "source": [
    "#### Here we will use a recurrent neural network model which will be made using KERAS Functional API to solve our NER problem"
   ]
  },
  {
   "cell_type": "code",
   "execution_count": 1,
   "metadata": {},
   "outputs": [],
   "source": [
    "# Hide tensorflow warnings\n",
    "import logging\n",
    "import os\n",
    "\n",
    "os.environ['TF_CPP_MIN_LOG_LEVEL'] = '3' \n",
    "logging.getLogger(\"tensorflow\").setLevel(logging.WARNING)"
   ]
  },
  {
   "cell_type": "code",
   "execution_count": 14,
   "metadata": {},
   "outputs": [],
   "source": [
    "# Libraries needed\n",
    "\n",
    "import numpy as np\n",
    "import matplotlib.pyplot as plt\n",
    "from collections import defaultdict\n",
    "import tensorflow as tf\n",
    "from tensorflow import keras\n",
    "from tensorflow.keras import Input, Model, optimizers\n",
    "from tensorflow.keras.layers import (\n",
    "    LSTM,\n",
    "    Activation,\n",
    "    Bidirectional,\n",
    "    Dense,\n",
    "    Dropout,\n",
    "    Embedding,\n",
    ")\n",
    "from tensorflow.keras.optimizers import schedules\n",
    "from tensorflow.keras.preprocessing.sequence import pad_sequences"
   ]
  },
  {
   "cell_type": "markdown",
   "metadata": {},
   "source": [
    "#### Note: Sometimes we have to run the above cell for importing libraries again as tensorflow or keras module is unable to get imported the first time due to some bug. If later on, if we get an error when compiling our mode or our settings optimizers etc, re-run the import library cell again.\n",
    "#### Note: Tensorflow 2.5 and numpy 1.20 and 1.21 will result in an error when building the model as Tensforflow uses numpy ver 1.19.5 internally for calculations.  "
   ]
  },
  {
   "cell_type": "code",
   "execution_count": 3,
   "metadata": {},
   "outputs": [
    {
     "name": "stdout",
     "output_type": "stream",
     "text": [
      "['RT O\\n', '@TheValarium O\\n', ': O\\n', 'Online O\\n', 'ticket O\\n', 'sales O\\n', 'for O\\n', 'Ghostland B-musicartist\\n', 'Observatory I-musicartist\\n', 'extended O\\n', 'until O\\n', '6 O\\n', 'PM O\\n', 'EST O\\n', 'due O\\n', 'to O\\n', 'high O\\n', 'demand O\\n', '. O\\n', 'Get O\\n', 'them O\\n', 'before O\\n', 'they O\\n', 'sell O\\n', 'out O\\n', '... O\\n', '\\n', 'Apple B-product\\n', 'MacBook I-product\\n', 'Pro I-product\\n', 'A1278 I-product\\n', '13.3 I-product\\n', '\" I-product\\n', 'Laptop I-product\\n', '- I-product\\n', 'MD101LL/A I-product\\n', '( O\\n', 'June O\\n', ', O\\n', '2012 O\\n', ') O\\n', '- O\\n', 'Full O\\n', 'read O\\n', 'by O\\n', 'eBay B-company\\n', 'http://t.co/2zgQ99nmuf O\\n', 'http://t.co/eQmogqqABK O\\n', '\\n', 'Happy O\\n', 'Birthday O\\n', '@AshForeverAshey O\\n', '! O\\n', 'May O\\n', 'Allah B-person\\n', 's.w.t O\\n', 'bless O\\n', 'you O\\n', 'with O\\n', 'goodness O\\n', 'and O\\n', 'happiness O\\n', '. O\\n', '\\n', '@AqwSkills O\\n', 'the O\\n', 'quest O\\n', 'line O\\n', 'im O\\n', 'assuming O\\n', 'it O\\n', 'will O\\n', 'be O\\n', 'the O\\n', 'same O\\n', 'way O\\n', 'with O\\n', 'awe O\\n', 'thur O\\n', '\\n', '@Wolven O\\n', '@VanessaY O\\n', '@miniver O\\n', '@mathpunk O\\n', '@NeilHarbisson O\\n', 'still O\\n', 'perception O\\n', ', O\\n', 'and O\\n', 'what O\\n', 'you O\\n', 'key O\\n', 'off O\\n', 'may O\\n', 'differ O\\n', 'from O\\n', 'me O\\n', '. O\\n', 'Back O\\n', 'to O\\n']\n"
     ]
    }
   ],
   "source": [
    "# Note: 'with' automatically closes file \n",
    "\n",
    "with open('data/train.txt') as f:\n",
    "    line = [f.readline() for i in range(100)]\n",
    "    print(line)"
   ]
  },
  {
   "cell_type": "markdown",
   "metadata": {},
   "source": [
    "#### Reading twitter text file format, we note every line contains a pair of a token (word/punctuation symbol) and a tag, separated by a whitespace and different tweets are separated by an empty line. \n",
    "\n",
    "#### Further, we see different user names start after an '@' symbol and also there are different url's. These can be replaced by an identification token as they won't be useful by themselves in our model."
   ]
  },
  {
   "cell_type": "code",
   "execution_count": 4,
   "metadata": {},
   "outputs": [],
   "source": [
    "\"\"\" Function to read twitter text file and return a separated list of tokens and its corresponding tags \"\"\"\n",
    "\n",
    "def read_data(file_path):\n",
    "    tokens = []\n",
    "    tags = []\n",
    "    \n",
    "    tweet_tokens = []\n",
    "    tweet_tags = []\n",
    "    for line in open(file_path, encoding='utf-8'):\n",
    "        line = line.strip()\n",
    "        if not line:\n",
    "            if tweet_tokens:\n",
    "                tokens.append(tweet_tokens)\n",
    "                tags.append(tweet_tags)\n",
    "            tweet_tokens = []\n",
    "            tweet_tags = []\n",
    "        else:\n",
    "            token, tag = line.split()\n",
    "            # Replace all urls with <URL> token\n",
    "            # Replace all users with <USR> token\n",
    "\n",
    "            if token.startswith(\"@\"):\n",
    "                token=\"<USR>\"\n",
    "            elif token.startswith(\"http://\") or token.startswith(\"https://\"):\n",
    "                token=\"<URL>\"\n",
    "            \n",
    "            tweet_tokens.append(token)\n",
    "            tweet_tags.append(tag)\n",
    "            \n",
    "    return tokens, tags"
   ]
  },
  {
   "cell_type": "code",
   "execution_count": 5,
   "metadata": {},
   "outputs": [],
   "source": [
    "train_tokens, train_tags = read_data('data/train.txt')\n",
    "val_tokens, val_tags = read_data('data/validation.txt')\n",
    "test_tokens, test_tags = read_data('data/test.txt')"
   ]
  },
  {
   "cell_type": "markdown",
   "metadata": {},
   "source": [
    "#### Saving our tokens and tags into train,validation and test sets.\n",
    " - *train* data for training the model;\n",
    " - *validation* data for evaluation and hyperparameters tuning;\n",
    " - *test* data for final evaluation of the model."
   ]
  },
  {
   "cell_type": "code",
   "execution_count": 6,
   "metadata": {},
   "outputs": [
    {
     "name": "stdout",
     "output_type": "stream",
     "text": [
      "----- Sentence 1 :- -----\n",
      "RT\tO\n",
      "<USR>\tO\n",
      ":\tO\n",
      "Online\tO\n",
      "ticket\tO\n",
      "sales\tO\n",
      "for\tO\n",
      "Ghostland\tB-musicartist\n",
      "Observatory\tI-musicartist\n",
      "extended\tO\n",
      "until\tO\n",
      "6\tO\n",
      "PM\tO\n",
      "EST\tO\n",
      "due\tO\n",
      "to\tO\n",
      "high\tO\n",
      "demand\tO\n",
      ".\tO\n",
      "Get\tO\n",
      "them\tO\n",
      "before\tO\n",
      "they\tO\n",
      "sell\tO\n",
      "out\tO\n",
      "...\tO\n",
      "----------------------- \n",
      "\n",
      "----- Sentence 2 :- -----\n",
      "Apple\tB-product\n",
      "MacBook\tI-product\n",
      "Pro\tI-product\n",
      "A1278\tI-product\n",
      "13.3\tI-product\n",
      "\"\tI-product\n",
      "Laptop\tI-product\n",
      "-\tI-product\n",
      "MD101LL/A\tI-product\n",
      "(\tO\n",
      "June\tO\n",
      ",\tO\n",
      "2012\tO\n",
      ")\tO\n",
      "-\tO\n",
      "Full\tO\n",
      "read\tO\n",
      "by\tO\n",
      "eBay\tB-company\n",
      "<URL>\tO\n",
      "<URL>\tO\n",
      "----------------------- \n",
      "\n"
     ]
    }
   ],
   "source": [
    "for i in range(2):\n",
    "    print(\"----- Sentence {0} :- -----\".format(i+1))\n",
    "    for token, tag in zip(train_tokens[i], train_tags[i]):\n",
    "        print('%s\\t%s' % (token, tag))\n",
    "    print (\"----------------------- \\n\")"
   ]
  },
  {
   "cell_type": "markdown",
   "metadata": {},
   "source": [
    "#### Checking our training set list for tokens and tags"
   ]
  },
  {
   "cell_type": "markdown",
   "metadata": {},
   "source": [
    "-----------------------------------"
   ]
  },
  {
   "cell_type": "markdown",
   "metadata": {},
   "source": [
    "# Data Pre-Processing"
   ]
  },
  {
   "cell_type": "markdown",
   "metadata": {},
   "source": [
    "#### To train our neural network, we will create a dictionary with two mappings:\n",
    "- token → token id: use integers as input data of KERAS embedding layer so that words can be represented     by dense vectors (More memory and computationally efficient than One-Hot Encoding)\n",
    "- tag → tag id: use integers for computing the loss at the output of the network.\n",
    "\n",
    "#### Note: Here we are considering that we have single-class labels, where an object can only belong to one class, i.e. each token belongs to a particular tag or vice-versa. Hence, we can use \"sparse_categorical_crossentropy\" instead of \"categorical_crossentropy\" as our loss function which requires one-hot-encoded vectors"
   ]
  },
  {
   "cell_type": "markdown",
   "metadata": {},
   "source": [
    "#### Note: We will also need to add some 'Special tokens and tags' to our dictionary. They will be unknown tokens and padding tokens/tags.\n",
    "- &lt;UNK&gt; token to represent of vocabulary tokens;\n",
    "- &lt;PAD&gt; tokens and tags for padding sentence to the same length when we create batches of sentences"
   ]
  },
  {
   "cell_type": "code",
   "execution_count": 7,
   "metadata": {},
   "outputs": [],
   "source": [
    "\"\"\" Dictionary to create mappings for tokens and tags \"\"\"\n",
    "\n",
    "def build_dict(tokens_or_tags, special_tokens):\n",
    "    \"\"\"\n",
    "        tokens_or_tags: a list of lists of tokens or tags\n",
    "        special_tokens: some special tokens\n",
    "    \"\"\"\n",
    "    # Create a dictionary with default value 0\n",
    "    tok2idx = defaultdict(lambda: 0)\n",
    "    idx2tok = []\n",
    "    \n",
    "# Note: First add special tokens and tags to the dictionaries and the first special token must have index 0\n",
    "# Here, first special token must be for \"pad\" as later on we can use an in-built KERAS function for masking\n",
    "# pads to avoid extra copmutations i.e. mask_zero which only applies for value 0 (index 0 here)\n",
    "    \n",
    "    k = 0\n",
    "    for line in special_tokens:\n",
    "        tok2idx[line] = k\n",
    "        k += 1\n",
    "        idx2tok.append(line)\n",
    "        \n",
    "    for tokens in tokens_or_tags:\n",
    "        for token in tokens:\n",
    "            if token not in tok2idx: \n",
    "                tok2idx[token] = k \n",
    "                k += 1\n",
    "                idx2tok.append(token)\n",
    "    \n",
    "    return tok2idx, idx2tok"
   ]
  },
  {
   "cell_type": "code",
   "execution_count": 8,
   "metadata": {},
   "outputs": [],
   "source": [
    "special_tokens = ['<PAD>', '<UNK>']\n",
    "special_tags = ['<PAD>']\n",
    "\n",
    "# Create dictionaries \n",
    "token2idx, idx2token = build_dict(train_tokens + val_tokens, special_tokens)\n",
    "tag2idx, idx2tag = build_dict(train_tags + val_tags , special_tags)"
   ]
  },
  {
   "cell_type": "markdown",
   "metadata": {},
   "source": [
    "####  Implemented the function build_dict and creating dictionaries for our tokens and tags.\n",
    "#### Note: We always consider test tokens and tags to be unseen/unknown and hence don't use them when creating our dicitonaries."
   ]
  },
  {
   "cell_type": "markdown",
   "metadata": {},
   "source": [
    "## Padding Input Sentences"
   ]
  },
  {
   "cell_type": "markdown",
   "metadata": {},
   "source": [
    "#### The LSTM layers only accepts sequences within a batch that are of same lengths. It means that weight updates of the network are based on several sequences at every single time. So we will pad shorter sequences within a batch with a special token (&lt;PAD&gt;) to match the length of the largest sequence in that batch, thus making all sequences of equal length for every batch. This technique is also known as bucketing"
   ]
  },
  {
   "cell_type": "markdown",
   "metadata": {},
   "source": [
    "#### We will define a function to generate batches of equal length which can then be fed into our neural network model. For this, we will define 3 functions :-\n",
    "* helper function to generate the number of batches for a given batch size\n",
    "* helper function to create list of the mapped id's from tokens when given a sentence\n",
    "* function for generating batches with sequences of equal lengths by applying padding using the 2 helper functions  "
   ]
  },
  {
   "cell_type": "code",
   "execution_count": 9,
   "metadata": {},
   "outputs": [],
   "source": [
    "def n_batches(batch_size, tokens, allow_smaller_last_batch = True):\n",
    "    n_samples = len(tokens)\n",
    "    n_batches = n_samples // batch_size                          ### '//' for floor division \n",
    "    if allow_smaller_last_batch and n_samples % batch_size:\n",
    "        n_batches += 1\n",
    "    return n_batches"
   ]
  },
  {
   "cell_type": "code",
   "execution_count": 10,
   "metadata": {},
   "outputs": [],
   "source": [
    "def words2idxs(tokens_list):\n",
    "    return [token2idx[word] for word in tokens_list]\n",
    "\n",
    "def tags2idxs(tags_list):\n",
    "    return [tag2idx[tag] for tag in tags_list]"
   ]
  },
  {
   "cell_type": "code",
   "execution_count": 11,
   "metadata": {},
   "outputs": [],
   "source": [
    "def batches_generator(batch_size, n_batches, tokens, tags,\n",
    "                      shuffle = True):\n",
    "    \"\"\"Generates padded batches of tokens and tags.\"\"\"\n",
    "    while True:                       ### 'while' loop used for looping through epochs in train.fit() \n",
    "        n_samples = len(tokens)\n",
    "        if shuffle:\n",
    "            order = np.random.permutation(n_samples)\n",
    "        else:\n",
    "            order = np.arange(n_samples)\n",
    "    \n",
    "        for k in range(n_batches):\n",
    "            batch_start = k * batch_size\n",
    "            batch_end = min((k + 1) * batch_size, n_samples)\n",
    "            current_batch_size = batch_end - batch_start\n",
    "            x_list = []\n",
    "            y_list = []\n",
    "            max_len_token = 0\n",
    "            for idx in order[batch_start: batch_end]:\n",
    "                x_list.append(words2idxs(tokens[idx]))\n",
    "                y_list.append(tags2idxs(tags[idx]))\n",
    "                max_len_token = max(max_len_token, len(tags[idx]))\n",
    "                \n",
    "            # Fill in the data into numpy nd-arrays filled with padding indices.\n",
    "            x = np.ones([current_batch_size, max_len_token], dtype=np.int32) * token2idx['<PAD>']\n",
    "            y = np.ones([current_batch_size, max_len_token], dtype=np.int32) * tag2idx['<PAD>']        \n",
    "            for n in range(current_batch_size):\n",
    "                utt_len = len(x_list[n])\n",
    "                x[n, :utt_len] = x_list[n]\n",
    "                y[n, :utt_len] = y_list[n]\n",
    "            yield x, y"
   ]
  },
  {
   "cell_type": "markdown",
   "metadata": {},
   "source": [
    "#### Note: We will provide RNN and loss function with sequence lengths, so it can skip computations for padding parts. For this we can use KERAS mask_zero param to remove the paddings parts for computation.\n",
    "#### Helper function 'n_batches' has to be separate from 'batches_generator' function as later on we will be using 'fit' method for training our model which requires number of batches as input for steps_per_epoch param when using a generator as input for X(input data) param. However, when using 'train_on_batch' method instead of 'fit' method we can include them in a single function as well. For a similar reason we have used a 'while' loop in 'batches_generator' function to loop through epochs which will be declared in our 'fit' method."
   ]
  },
  {
   "cell_type": "markdown",
   "metadata": {
    "tags": []
   },
   "source": [
    "# Implementing Model Architecture\n",
    "\n",
    "#### We will create an LSTM network which will produce probability distribution over tags for each token in a sentence. To take into account both right and left contexts of the token, we will use Bi-Directional LSTM (Bi-LSTM). Dense layer will be used on top to perform tag classification. We will use Keras Functional API to build our model.\n",
    "\n",
    "#### We will set our input shape as 'None' so that we can accept sequences of variable length\n",
    "\n",
    "#### 'mask_zero' param will be set to True in 'Embedding' layer so as to to avoid computations for padding tokens inside the RNN and also when computing loss function.\n",
    "\n",
    "#### We will set 'dropout' param in our RNN layer for regularization.\n",
    "\n",
    "#### We will use 'softmax' in our activation function for output lyer, as it will provide us a multinominal probability distribution for our multi-label classification problem\n",
    "\n",
    "#### Our Loss Function will be \"sparse_categorical_crossentropy\" (No need for OHC, can use integers)\n",
    "\n",
    "#### Note: We can use 'Time Distributed Layer'(Many to Many architecture) instead of 'Dense Layer'(Many to One architecture) as output layer and check its performance."
   ]
  },
  {
   "cell_type": "markdown",
   "metadata": {},
   "source": [
    "#### The Embedding layer is defined as the first hidden layer of a network. It must specify 3 arguments:\n",
    "\n",
    "- input_dim: This is the size of the vocabulary in the text data. Here, it will length of token dictionary   consisting of \n",
    "- output_dim: This is the size of the vector space in which words will be embedded. It defines the size of   the output vectors from this layer for each word. For example, it could be 32 or 100 or even larger.       Here, we will use 200.\n",
    "- input_length: This is the length of input sequences, as you would define for any input layer of a Keras model. Here, it will max sentence length from our training and validations dataset."
   ]
  },
  {
   "cell_type": "markdown",
   "metadata": {},
   "source": [
    "#### The output dense layer length should be equal to number of labels i.e. tags"
   ]
  },
  {
   "cell_type": "code",
   "execution_count": 12,
   "metadata": {},
   "outputs": [],
   "source": [
    "input_dim = len(idx2token)\n",
    "output_dim = 200\n",
    "num_tags = len(idx2tag)"
   ]
  },
  {
   "cell_type": "markdown",
   "metadata": {},
   "source": [
    "#### Initialized input and output parameters for our model"
   ]
  },
  {
   "cell_type": "markdown",
   "metadata": {},
   "source": [
    "## Setting Optimizer for our model"
   ]
  },
  {
   "cell_type": "markdown",
   "metadata": {},
   "source": [
    "#### We will use adam optimization algorithm with learning rate decay. The learning rate is a hyperparameter that controls how much to change the model in response to the estimated error each time the model weights are updated. An initially large learning rate suppresses the network from memorizing noisy data while decaying the learning rate improves the learning of complex patterns.\n",
    "#### Note: We can also use 'Adaptive Moment Estimation' instead of learning rate schedules method as it can be challenging to configure and is critical to the performance of a deep learning neural network model. \n",
    "\n",
    "#### We also apply clipping to eliminate exploding gradients. Here, we use 'global_clipnorm' function in KERAS which clips only gradients and not variables. Also, function 'clip_norm' clips the gradient of each weight independently of the gradients of the other weights and thus has the disadvantage of changing the descent direction, whereas with global_clipnorm the direction would remain unchanged."
   ]
  },
  {
   "cell_type": "code",
   "execution_count": 15,
   "metadata": {},
   "outputs": [],
   "source": [
    "lr_schedule = keras.optimizers.schedules.ExponentialDecay(\n",
    "    initial_learning_rate = 1e-2,\n",
    "    decay_steps = 10000,\n",
    "    decay_rate = 0.9)\n",
    "\n",
    "opt = keras.optimizers.Adam(learning_rate = lr_schedule, global_clipnorm = 1.0)"
   ]
  },
  {
   "cell_type": "markdown",
   "metadata": {},
   "source": [
    "## KERAS BI-LSTM Model"
   ]
  },
  {
   "cell_type": "code",
   "execution_count": 16,
   "metadata": {},
   "outputs": [
    {
     "name": "stdout",
     "output_type": "stream",
     "text": [
      "Model: \"model\"\n",
      "_________________________________________________________________\n",
      "Layer (type)                 Output Shape              Param #   \n",
      "=================================================================\n",
      "input_1 (InputLayer)         [(None, None)]            0         \n",
      "_________________________________________________________________\n",
      "embedding (Embedding)        (None, None, 200)         4101000   \n",
      "_________________________________________________________________\n",
      "bidirectional (Bidirectional (None, None, 200)         240800    \n",
      "_________________________________________________________________\n",
      "dense (Dense)                (None, None, 22)          4422      \n",
      "=================================================================\n",
      "Total params: 4,346,222\n",
      "Trainable params: 4,346,222\n",
      "Non-trainable params: 0\n",
      "_________________________________________________________________\n"
     ]
    }
   ],
   "source": [
    "input_seq = Input(shape = (None,))\n",
    "model = Embedding(input_dim = input_dim, output_dim = output_dim, mask_zero = True)(input_seq)\n",
    "\n",
    "forward_layer = keras.layers.RNN(\n",
    "            keras.layers.LSTMCell(100, dropout = 0.5), return_sequences = True)\n",
    "backward_layer = keras.layers.RNN(\n",
    "            keras.layers.LSTMCell(100, dropout = 0.5), return_sequences = True, go_backwards = True)\n",
    "\n",
    "model = (Bidirectional(forward_layer, backward_layer = backward_layer))(model)\n",
    "\n",
    "out = (Dense(num_tags, activation = \"softmax\"))(model)\n",
    "model = Model(input_seq, out)\n",
    "\n",
    "model.compile(optimizer = opt, loss=\"sparse_categorical_crossentropy\", metrics=[\"Accuracy\"])\n",
    "\n",
    "model.summary()"
   ]
  },
  {
   "cell_type": "markdown",
   "metadata": {},
   "source": [
    "#### After compiling, we will train our data and conduct more experiments as needed to tune our hyperparameters, to obtain higher accuracy on the held-out validation dataset.\n",
    "#### The hyperparameters for our model are :- batch_size, epochs, learning_rate params, global_clip_norm, dropout.\n",
    "#### For training our model we will be using 'fit' method but in 'x' param (input data) and 'validation_data' param we will use a generator as sequences are of different lengths. Also, as we will be using a generator we will have assign values for 'steps_per_epoch' and 'validation_steps' pararms instead of batch_size.\n",
    "#### To use a generator for training our model we will define a function which will make use of 'n_batches' and 'batches_generator' functions defined earlier."
   ]
  },
  {
   "cell_type": "code",
   "execution_count": 17,
   "metadata": {},
   "outputs": [],
   "source": [
    "\"\"\" To train a model using a Generator \"\"\"\n",
    "\n",
    "def train_model(x_train , y_train, x_val = None, y_val = None, batch_size = 32, epochs = 2, verbose = 1):    \n",
    "    n_batch_train = n_batches(batch_size, x_train)    \n",
    "    if x_val:\n",
    "        n_batch_val = n_batches(batch_size, x_val)\n",
    "\n",
    "    history = model.fit(\n",
    "        x = batches_generator(batch_size, n_batch_train, x_train, y_train, epochs),\n",
    "        y = None,\n",
    "        steps_per_epoch = n_batch_train,\n",
    "        validation_data = batches_generator(batch_size, n_batch_val, x_val, y_val, epochs),\n",
    "        validation_steps = n_batch_val,\n",
    "        epochs = epochs,\n",
    "        verbose = verbose,\n",
    "    )\n",
    "    return history"
   ]
  },
  {
   "cell_type": "code",
   "execution_count": 18,
   "metadata": {},
   "outputs": [
    {
     "name": "stdout",
     "output_type": "stream",
     "text": [
      "Epoch 1/5\n",
      "182/182 [==============================] - 71s 327ms/step - loss: 0.2319 - Accuracy: 0.9223 - val_loss: 0.1576 - val_Accuracy: 0.9367\n",
      "Epoch 2/5\n",
      "182/182 [==============================] - 56s 307ms/step - loss: 0.1005 - Accuracy: 0.9539 - val_loss: 0.1464 - val_Accuracy: 0.9402\n",
      "Epoch 3/5\n",
      "182/182 [==============================] - 61s 335ms/step - loss: 0.0460 - Accuracy: 0.9772 - val_loss: 0.1717 - val_Accuracy: 0.9240\n",
      "Epoch 4/5\n",
      "182/182 [==============================] - 70s 385ms/step - loss: 0.0252 - Accuracy: 0.9867 - val_loss: 0.1805 - val_Accuracy: 0.9388\n",
      "Epoch 5/5\n",
      "182/182 [==============================] - 80s 442ms/step - loss: 0.0159 - Accuracy: 0.9913 - val_loss: 0.1840 - val_Accuracy: 0.9296\n"
     ]
    }
   ],
   "source": [
    "history = train_model(train_tokens, train_tags, val_tokens, val_tags, batch_size = 32, epochs = 5)"
   ]
  },
  {
   "cell_type": "markdown",
   "metadata": {},
   "source": [
    "#### Note: When evaluating results for each epoch, be careful to not use custom metrics (F1/F2 score) directly through keras metric function that is calculated during training(fit) as it is done on batches (not together) and might show misleading results. Keras inbuilt metrics (tensorflow 2) use specialised built-in accumulators, and the computations are made properly. However, note it is possible to use custom metrics by other methods like backend utilities, callbacks, base layer API's."
   ]
  },
  {
   "cell_type": "markdown",
   "metadata": {},
   "source": [
    "#### We will plot the graph between the loss and number of epochs for training and validation set. To assess the number of epochs required and to avoid underfitting or overfitting, it is important to compare training and validation loss. "
   ]
  },
  {
   "cell_type": "code",
   "execution_count": 19,
   "metadata": {},
   "outputs": [
    {
     "data": {
      "image/png": "[encoded data removed]",
      "text/plain": [
       "<Figure size 576x576 with 1 Axes>"
      ]
     },
     "metadata": {
      "needs_background": "light"
     },
     "output_type": "display_data"
    }
   ],
   "source": [
    "loss = history.history['loss']\n",
    "val_loss = history.history['val_loss']\n",
    "plt.figure(figsize = (8, 8))\n",
    "epochs = range(1, len(loss) + 1)\n",
    "\n",
    "plt.plot(epochs, loss, 'bo', label='Training loss')\n",
    "plt.plot(epochs, val_loss, 'b', label='Validation loss')\n",
    "plt.title('Training and validation loss')\n",
    "plt.legend()\n",
    "plt.show()"
   ]
  },
  {
   "cell_type": "markdown",
   "metadata": {},
   "source": [
    "#### We observe our training loss starts becoming constant after 3 epochs and validation loss starts slightly increasing. We can increase the number of epochs to check and confirm the future trend of our losses, as our model is showing overfitting after 3-4 epochs.\n",
    "\n",
    "#### Note: We can use Callbacks to get a view on internal states and statistics of the model during training and thus help us in preventing overfitting, visualize training progress, debug your code, save checkpoints, generate logs etc. We have not used here for sake of simplicity and will demonstrate in later parts."
   ]
  },
  {
   "cell_type": "markdown",
   "metadata": {},
   "source": [
    "## Evaluation on Test Dataset"
   ]
  },
  {
   "cell_type": "markdown",
   "metadata": {},
   "source": [
    "#### We will be using CoNLL-2003 shared task as our evaluation metric. It measures the performance of the systems in terms of precision, recall and f1-score, where: \n",
    "- precision is the percentage of named entities found by the learning system that are correct. \n",
    "- Recall is the percentage of named entities present in the corpus that are found by the system. \n",
    "- A named entity is correct only if it is an exact match of the corresponding entity in the data file.\n",
    "#### We consider 3 scenarios here, namely :-\n",
    "- Surface string and entity type match\n",
    "- System hypothesized an entity\n",
    "- System misses an entity\n",
    "\n",
    "#### Note: We can use other evaluation metric for NER like Automatic Content Extraction (ACE) or Message Understanding Conference (MUC) which considers other scenarios for partial matches as well."
   ]
  },
  {
   "cell_type": "markdown",
   "metadata": {},
   "source": [
    "#### Define a function which will calculate our evaluation metrics as per CoNLL-2003 evaluation scheme"
   ]
  },
  {
   "cell_type": "code",
   "execution_count": 20,
   "metadata": {},
   "outputs": [],
   "source": [
    "from collections import OrderedDict\n",
    "\n",
    "def _update_chunk(candidate, prev, current_tag, current_chunk, current_pos, prediction=False):\n",
    "    if candidate == 'B-' + current_tag:\n",
    "        if len(current_chunk) > 0 and len(current_chunk[-1]) == 1:\n",
    "                current_chunk[-1].append(current_pos - 1)\n",
    "        current_chunk.append([current_pos])\n",
    "    elif candidate == 'I-' + current_tag:\n",
    "        if prediction and (current_pos == 0 or current_pos > 0 and prev.split('-', 1)[-1] != current_tag):\n",
    "            current_chunk.append([current_pos])\n",
    "        if not prediction and (current_pos == 0 or current_pos > 0 and prev == 'O'):\n",
    "            current_chunk.append([current_pos])\n",
    "    elif current_pos > 0 and prev.split('-', 1)[-1] == current_tag:\n",
    "        if len(current_chunk) > 0:\n",
    "            current_chunk[-1].append(current_pos - 1)\n",
    "\n",
    "def _update_last_chunk(current_chunk, current_pos):\n",
    "    if len(current_chunk) > 0 and len(current_chunk[-1]) == 1:\n",
    "        current_chunk[-1].append(current_pos - 1)\n",
    "\n",
    "def _tag_precision_recall_f1(tp, fp, fn):\n",
    "    precision, recall, f1 = 0, 0, 0\n",
    "    if tp + fp > 0:\n",
    "        precision = tp / (tp + fp) * 100\n",
    "    if tp + fn > 0:\n",
    "        recall = tp / (tp + fn) * 100\n",
    "    if precision + recall > 0:\n",
    "        f1 = 2 * precision * recall / (precision + recall)\n",
    "    return precision, recall, f1\n",
    "\n",
    "def _aggregate_metrics(results, total_correct):\n",
    "    total_true_entities = 0\n",
    "    total_predicted_entities = 0\n",
    "    total_precision = 0\n",
    "    total_recall = 0\n",
    "    total_f1 = 0\n",
    "    for tag, tag_metrics in results.items():\n",
    "        n_pred = tag_metrics['n_predicted_entities']\n",
    "        n_true = tag_metrics['n_true_entities']\n",
    "        total_true_entities += n_true\n",
    "        total_predicted_entities += n_pred\n",
    "        total_precision += tag_metrics['precision'] * n_pred\n",
    "        total_recall += tag_metrics['recall'] * n_true\n",
    "    \n",
    "    accuracy = 0\n",
    "    if total_true_entities > 0:\n",
    "        accuracy = total_correct / total_true_entities * 100\n",
    "    else:\n",
    "        print('CAUTION! Accuracy equals zero because there are no '\\\n",
    "              'correct entities. Check the correctness of your data.')\n",
    "    if total_predicted_entities > 0:\n",
    "        total_precision = total_precision / total_predicted_entities\n",
    "    total_recall = total_recall / total_true_entities\n",
    "    if total_precision + total_recall > 0:\n",
    "        total_f1 = 2 * total_precision * total_recall / (total_precision + total_recall)\n",
    "    return total_true_entities, total_predicted_entities, \\\n",
    "           total_precision, total_recall, total_f1, accuracy\n",
    "\n",
    "def _print_info(n_tokens, total_true_entities, total_predicted_entities, total_correct):\n",
    "    print('processed {len} tokens ' \\\n",
    "          'with {tot_true} phrases; ' \\\n",
    "          'found: {tot_pred} phrases; ' \\\n",
    "          'correct: {tot_cor}.\\n'.format(len=n_tokens,\n",
    "                                         tot_true=total_true_entities,\n",
    "                                         tot_pred=total_predicted_entities,\n",
    "                                         tot_cor=total_correct))\n",
    "\n",
    "def _print_metrics(accuracy, total_precision, total_recall, total_f1):\n",
    "    print('precision:  {tot_prec:.2f}%; ' \\\n",
    "          'recall:  {tot_recall:.2f}%; ' \\\n",
    "          'F1:  {tot_f1:.2f}%\\n'.format(acc=accuracy,\n",
    "                                           tot_prec=total_precision,\n",
    "                                           tot_recall=total_recall,\n",
    "                                           tot_f1=total_f1))\n",
    "\n",
    "def _print_tag_metrics(tag, tag_results):\n",
    "    print(('\\t%12s' % tag) + ': precision:  {tot_prec:6.2f}%; ' \\\n",
    "                               'recall:  {tot_recall:6.2f}%; ' \\\n",
    "                               'F1:  {tot_f1:6.2f}; ' \\\n",
    "                               'predicted:  {tot_predicted:4d}\\n'.format(tot_prec=tag_results['precision'],\n",
    "                                                                         tot_recall=tag_results['recall'],\n",
    "                                                                         tot_f1=tag_results['f1'],\n",
    "                                                                         tot_predicted=tag_results['n_predicted_entities']))\n",
    "\n",
    "def precision_recall_f1(y_true, y_pred, print_results=True, short_report=False):\n",
    "    # Find all tags\n",
    "    tags = sorted(set(tag[2:] for tag in y_true + y_pred if tag != 'O'))\n",
    "\n",
    "    results = OrderedDict((tag, OrderedDict()) for tag in tags)\n",
    "    n_tokens = len(y_true)\n",
    "    total_correct = 0\n",
    "\n",
    "    # For eval_conll_try we find all chunks in the ground truth and prediction\n",
    "    # For each chunk we store starting and ending indices\n",
    "    for tag in tags:\n",
    "        true_chunk = list()\n",
    "        predicted_chunk = list()\n",
    "        for position in range(n_tokens):\n",
    "            _update_chunk(y_true[position], y_true[position - 1], tag, true_chunk, position)\n",
    "            _update_chunk(y_pred[position], y_pred[position - 1], tag, predicted_chunk, position, True)\n",
    "\n",
    "        _update_last_chunk(true_chunk, position)\n",
    "        _update_last_chunk(predicted_chunk, position)\n",
    "\n",
    "        # Then we find all correctly classified intervals\n",
    "        # True positive results\n",
    "        tp = sum(chunk in predicted_chunk for chunk in true_chunk)\n",
    "        total_correct += tp\n",
    "\n",
    "        # And then just calculate errors of the first and second kind\n",
    "        # False negative\n",
    "        fn = len(true_chunk) - tp\n",
    "        # False positive\n",
    "        fp = len(predicted_chunk) - tp\n",
    "        precision, recall, f1 = _tag_precision_recall_f1(tp, fp, fn)\n",
    "\n",
    "        results[tag]['precision'] = precision\n",
    "        results[tag]['recall'] = recall\n",
    "        results[tag]['f1'] = f1\n",
    "        results[tag]['n_predicted_entities'] = len(predicted_chunk)\n",
    "        results[tag]['n_true_entities'] = len(true_chunk)\n",
    "\n",
    "    total_true_entities, total_predicted_entities, \\\n",
    "           total_precision, total_recall, total_f1, accuracy = _aggregate_metrics(results, total_correct)\n",
    "\n",
    "    if print_results:\n",
    "        _print_info(n_tokens, total_true_entities, total_predicted_entities, total_correct)\n",
    "        _print_metrics(accuracy, total_precision, total_recall, total_f1)\n",
    "\n",
    "        if not short_report:\n",
    "            for tag, tag_results in results.items():\n",
    "                _print_tag_metrics(tag, tag_results)\n",
    "    return results"
   ]
  },
  {
   "cell_type": "code",
   "execution_count": 21,
   "metadata": {},
   "outputs": [],
   "source": [
    "def predict_tags(token_idxs_):\n",
    "    \"\"\"Performs predictions and transforms indices to tokens and tags.\"\"\"\n",
    "    \n",
    "    token_idxs_batch = np.expand_dims(token_idxs_,0)\n",
    "    tag_idxs_batch = model.predict(token_idxs_batch)\n",
    "    tag_idxs_batch = np.argmax(tag_idxs_batch, axis = -1)\n",
    "\n",
    "    tags_batch, tokens_batch = [], []\n",
    "    for tag_idxs, token_idxs in zip(tag_idxs_batch, token_idxs_batch):\n",
    "        tags, tokens = [], []\n",
    "        for tag_idx, token_idx in zip(tag_idxs, token_idxs):            \n",
    "            tags.append(idx2tag[tag_idx])\n",
    "            tokens.append(idx2token[token_idx])\n",
    "        tags_batch.append(tags)\n",
    "        tokens_batch.append(tokens)        \n",
    "    return tags_batch, tokens_batch\n",
    "    \n",
    "    \n",
    "def eval_conll(tokens, tags, short_report = True):\n",
    "    \"\"\"Computes NER quality measures using CONLL shared task script.\"\"\"\n",
    "    y_true, y_pred = [], []\n",
    "\n",
    "    for x_batch, y_batch in zip(tokens, tags):\n",
    "        x_batch_id = words2idxs(x_batch)\n",
    "        y_batch_id = tags2idxs(y_batch)\n",
    "        tags_batch, tokens_batch = predict_tags(x_batch_id)\n",
    "        y_true_batch = np.expand_dims(y_batch_id,0)     \n",
    "        \n",
    "        predicted_tags = []\n",
    "        ground_truth_tags = []\n",
    "        for gt_tag_idx, pred_tag, token in zip(y_true_batch[0], tags_batch[0], tokens_batch[0]): \n",
    "            if token != '<PAD>':\n",
    "                ground_truth_tags.append(idx2tag[gt_tag_idx])\n",
    "                predicted_tags.append(pred_tag)\n",
    "\n",
    "        # We extend every prediction and ground truth sequence with 'O' tag\n",
    "        # to indicate a possible end of entity.\n",
    "        y_true.extend(ground_truth_tags + ['O'])\n",
    "        y_pred.extend(predicted_tags + ['O'])\n",
    "          \n",
    "    results = precision_recall_f1(y_true, y_pred, print_results = True, short_report = short_report)\n",
    "    return (results)"
   ]
  },
  {
   "cell_type": "markdown",
   "metadata": {},
   "source": [
    "#### After defining  our evaluation metrics, we can finally evaualte our test dataset."
   ]
  },
  {
   "cell_type": "code",
   "execution_count": 22,
   "metadata": {},
   "outputs": [
    {
     "name": "stdout",
     "output_type": "stream",
     "text": [
      "processed 11742 tokens with 425 phrases; found: 457 phrases; correct: 257.\n",
      "\n",
      "precision:  56.24%; recall:  60.47%; F1:  58.28%\n",
      "\n",
      "\t     company: precision:   65.57%; recall:   70.18%; F1:   67.80; predicted:    61\n",
      "\n",
      "\t    facility: precision:   41.30%; recall:   46.34%; F1:   43.68; predicted:    46\n",
      "\n",
      "\t     geo-loc: precision:   72.80%; recall:   75.21%; F1:   73.98; predicted:   125\n",
      "\n",
      "\t       movie: precision:   50.00%; recall:   25.00%; F1:   33.33; predicted:     4\n",
      "\n",
      "\t musicartist: precision:   36.36%; recall:   25.00%; F1:   29.63; predicted:    11\n",
      "\n",
      "\t       other: precision:   37.50%; recall:   47.37%; F1:   41.86; predicted:    96\n",
      "\n",
      "\t      person: precision:   68.42%; recall:   74.29%; F1:   71.23; predicted:    76\n",
      "\n",
      "\t     product: precision:   36.36%; recall:   25.00%; F1:   29.63; predicted:    11\n",
      "\n",
      "\t  sportsteam: precision:   37.50%; recall:   47.37%; F1:   41.86; predicted:    24\n",
      "\n",
      "\t      tvshow: precision:    0.00%; recall:    0.00%; F1:    0.00; predicted:     3\n",
      "\n"
     ]
    }
   ],
   "source": [
    "test_results = eval_conll(test_tokens, test_tags, short_report = False)"
   ]
  },
  {
   "cell_type": "markdown",
   "metadata": {},
   "source": [
    "#### We observe a F1 score of about 58%. We can conduct more experiments to tune our hyperparameters and compare our results."
   ]
  },
  {
   "cell_type": "markdown",
   "metadata": {},
   "source": [
    "## Conclusion"
   ]
  },
  {
   "cell_type": "markdown",
   "metadata": {},
   "source": [
    "#### Despite the fact that we used small training corpora (in comparison with usual sizes of corpora in Deep Learning), our results are quite good. In addition, in this task there are many possible named entities and for some of them we have only several dozens of trainig examples, which is definately small. However, the implemented model outperforms classical CRFs for this task. Even better results could be obtained by some combinations of several types of methods and other techniques or model architectures and by carefully selecting the values of hyperparameters."
   ]
  }
 ],
 "metadata": {
  "kernelspec": {
   "display_name": "Python 3 (ipykernel)",
   "language": "python",
   "name": "python3"
  },
  "language_info": {
   "codemirror_mode": {
    "name": "ipython",
    "version": 3
   },
   "file_extension": ".py",
   "mimetype": "text/x-python",
   "name": "python",
   "nbconvert_exporter": "python",
   "pygments_lexer": "ipython3",
   "version": "3.9.7"
  }
 },
 "nbformat": 4,
 "nbformat_minor": 4
}
