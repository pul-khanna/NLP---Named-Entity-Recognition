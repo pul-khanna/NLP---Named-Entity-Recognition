{
 "cells": [
  {
   "cell_type": "markdown",
   "metadata": {},
   "source": [
    "<h1><center><b> Named Entity Recognition </b></center></h1>\n",
    "\n",
    "#### NER is used for extraction such entities from the text as persons, organizations, locations, etc. Here we try to recognize named entities from Twitter with LSTMs"
   ]
  },
  {
   "cell_type": "markdown",
   "metadata": {},
   "source": [
    "#### Here we will use a recurrent neural network model which will be made using KERAS Functional API and to solve our NER problem. In addition we will use Pre-Trained GLoVe Embedding, Many to Many Architecture for last layer(TimeDistributed) and for monitoring and evaluation we will use Callbacks such EarlyStopping and TensorBoard"
   ]
  },
  {
   "cell_type": "code",
   "execution_count": 1,
   "metadata": {},
   "outputs": [],
   "source": [
    "# Hide tensorflow warnings\n",
    "import logging\n",
    "import os\n",
    "\n",
    "os.environ['TF_CPP_MIN_LOG_LEVEL'] = '3' \n",
    "logging.getLogger(\"tensorflow\").setLevel(logging.WARNING)"
   ]
  },
  {
   "cell_type": "code",
   "execution_count": 17,
   "metadata": {},
   "outputs": [],
   "source": [
    "# Important Libraries needed\n",
    "\n",
    "import datetime\n",
    "from collections import defaultdict\n",
    "\n",
    "import matplotlib.pyplot as plt\n",
    "import numpy as np\n",
    "import tensorflow as tf\n",
    "from tensorflow import keras\n",
    "from tensorflow.keras import Input, Model, optimizers\n",
    "from tensorflow.keras.layers import (\n",
    "    LSTM,\n",
    "    Activation,\n",
    "    Bidirectional,\n",
    "    Dense,\n",
    "    Dropout,\n",
    "    Embedding,\n",
    "    TimeDistributed,\n",
    ")\n",
    "from tensorflow.keras.optimizers import schedules\n",
    "from tensorflow.keras.preprocessing.sequence import pad_sequences"
   ]
  },
  {
   "cell_type": "code",
   "execution_count": 3,
   "metadata": {},
   "outputs": [
    {
     "name": "stdout",
     "output_type": "stream",
     "text": [
      "2.6.0\n",
      "1.21.2\n"
     ]
    }
   ],
   "source": [
    "print(tf.__version__)\n",
    "print(np.__version__)"
   ]
  },
  {
   "cell_type": "markdown",
   "metadata": {},
   "source": [
    "#### Note: Sometimes we have to run the above cell for importing libraries again as tensorflow or keras module is unable to get imported the first time due to some bug. If later on, if we get an error when compiling our mode or our settings optimizers etc, re-run the import library cell again.\n",
    "#### Note: Tensorflow 2.5 and numpy 1.20 and 1.21 will result in an error when building the model as Tensforflow uses numpy ver 1.19.5 internally for calculations.  "
   ]
  },
  {
   "cell_type": "code",
   "execution_count": 4,
   "metadata": {},
   "outputs": [
    {
     "name": "stdout",
     "output_type": "stream",
     "text": [
      "['RT O\\n', '@TheValarium O\\n', ': O\\n', 'Online O\\n', 'ticket O\\n', 'sales O\\n', 'for O\\n', 'Ghostland B-musicartist\\n', 'Observatory I-musicartist\\n', 'extended O\\n', 'until O\\n', '6 O\\n', 'PM O\\n', 'EST O\\n', 'due O\\n', 'to O\\n', 'high O\\n', 'demand O\\n', '. O\\n', 'Get O\\n', 'them O\\n', 'before O\\n', 'they O\\n', 'sell O\\n', 'out O\\n', '... O\\n', '\\n', 'Apple B-product\\n', 'MacBook I-product\\n', 'Pro I-product\\n', 'A1278 I-product\\n', '13.3 I-product\\n', '\" I-product\\n', 'Laptop I-product\\n', '- I-product\\n', 'MD101LL/A I-product\\n', '( O\\n', 'June O\\n', ', O\\n', '2012 O\\n', ') O\\n', '- O\\n', 'Full O\\n', 'read O\\n', 'by O\\n', 'eBay B-company\\n', 'http://t.co/2zgQ99nmuf O\\n', 'http://t.co/eQmogqqABK O\\n', '\\n', 'Happy O\\n', 'Birthday O\\n', '@AshForeverAshey O\\n', '! O\\n', 'May O\\n', 'Allah B-person\\n', 's.w.t O\\n', 'bless O\\n', 'you O\\n', 'with O\\n', 'goodness O\\n', 'and O\\n', 'happiness O\\n', '. O\\n', '\\n', '@AqwSkills O\\n', 'the O\\n', 'quest O\\n', 'line O\\n', 'im O\\n', 'assuming O\\n', 'it O\\n', 'will O\\n', 'be O\\n', 'the O\\n', 'same O\\n', 'way O\\n', 'with O\\n', 'awe O\\n', 'thur O\\n', '\\n', '@Wolven O\\n', '@VanessaY O\\n', '@miniver O\\n', '@mathpunk O\\n', '@NeilHarbisson O\\n', 'still O\\n', 'perception O\\n', ', O\\n', 'and O\\n', 'what O\\n', 'you O\\n', 'key O\\n', 'off O\\n', 'may O\\n', 'differ O\\n', 'from O\\n', 'me O\\n', '. O\\n', 'Back O\\n', 'to O\\n']\n"
     ]
    }
   ],
   "source": [
    "# Note: 'with' automatically closes file \n",
    "\n",
    "with open('data/train.txt') as f:\n",
    "    line = [f.readline() for i in range(100)]\n",
    "    print(line)"
   ]
  },
  {
   "cell_type": "markdown",
   "metadata": {},
   "source": [
    "#### Reading twitter text file format, we note every line contains a pair of a token (word/punctuation symbol) and a tag, separated by a whitespace and different tweets are separated by an empty line. \n",
    "\n",
    "#### Further, we see different user names start after an '@' symbol and also there are different url's. These can be replaced by an identification token as they won't be useful by themselves in our model."
   ]
  },
  {
   "cell_type": "code",
   "execution_count": 5,
   "metadata": {},
   "outputs": [],
   "source": [
    "\"\"\" Function to read twitter text file and return a separated list of tokens and its corresponding tags \"\"\"\n",
    "\n",
    "def read_data(file_path):\n",
    "    tokens = []\n",
    "    tags = []\n",
    "    \n",
    "    tweet_tokens = []\n",
    "    tweet_tags = []\n",
    "    for line in open(file_path, encoding='utf-8'):\n",
    "        line = line.strip()\n",
    "        if not line:\n",
    "            if tweet_tokens:\n",
    "                tokens.append(tweet_tokens)\n",
    "                tags.append(tweet_tags)\n",
    "            tweet_tokens = []\n",
    "            tweet_tags = []\n",
    "        else:\n",
    "            token, tag = line.split()\n",
    "            # Replace all urls with <URL> token\n",
    "            # Replace all users with <USR> token\n",
    "\n",
    "            if token.startswith(\"@\"):\n",
    "                token=\"<USR>\"\n",
    "            elif token.startswith(\"http://\") or token.startswith(\"https://\"):\n",
    "                token=\"<URL>\"\n",
    "            \n",
    "            tweet_tokens.append(token)\n",
    "            tweet_tags.append(tag)\n",
    "            \n",
    "    return tokens, tags"
   ]
  },
  {
   "cell_type": "code",
   "execution_count": 6,
   "metadata": {},
   "outputs": [],
   "source": [
    "train_tokens, train_tags = read_data('data/train.txt')\n",
    "val_tokens, val_tags = read_data('data/validation.txt')\n",
    "test_tokens, test_tags = read_data('data/test.txt')"
   ]
  },
  {
   "cell_type": "markdown",
   "metadata": {},
   "source": [
    "#### Saving our tokens and tags into train,validation and test sets.\n",
    " - *train* data for training the model;\n",
    " - *validation* data for evaluation and hyperparameters tuning;\n",
    " - *test* data for final evaluation of the model."
   ]
  },
  {
   "cell_type": "code",
   "execution_count": 7,
   "metadata": {},
   "outputs": [
    {
     "name": "stdout",
     "output_type": "stream",
     "text": [
      "----- Sentence 1 :- -----\n",
      "RT\tO\n",
      "<USR>\tO\n",
      ":\tO\n",
      "Online\tO\n",
      "ticket\tO\n",
      "sales\tO\n",
      "for\tO\n",
      "Ghostland\tB-musicartist\n",
      "Observatory\tI-musicartist\n",
      "extended\tO\n",
      "until\tO\n",
      "6\tO\n",
      "PM\tO\n",
      "EST\tO\n",
      "due\tO\n",
      "to\tO\n",
      "high\tO\n",
      "demand\tO\n",
      ".\tO\n",
      "Get\tO\n",
      "them\tO\n",
      "before\tO\n",
      "they\tO\n",
      "sell\tO\n",
      "out\tO\n",
      "...\tO\n",
      "----------------------- \n",
      "\n",
      "----- Sentence 2 :- -----\n",
      "Apple\tB-product\n",
      "MacBook\tI-product\n",
      "Pro\tI-product\n",
      "A1278\tI-product\n",
      "13.3\tI-product\n",
      "\"\tI-product\n",
      "Laptop\tI-product\n",
      "-\tI-product\n",
      "MD101LL/A\tI-product\n",
      "(\tO\n",
      "June\tO\n",
      ",\tO\n",
      "2012\tO\n",
      ")\tO\n",
      "-\tO\n",
      "Full\tO\n",
      "read\tO\n",
      "by\tO\n",
      "eBay\tB-company\n",
      "<URL>\tO\n",
      "<URL>\tO\n",
      "----------------------- \n",
      "\n"
     ]
    }
   ],
   "source": [
    "for i in range(2):\n",
    "    print(\"----- Sentence {0} :- -----\".format(i+1))\n",
    "    for token, tag in zip(train_tokens[i], train_tags[i]):\n",
    "        print('%s\\t%s' % (token, tag))\n",
    "    print (\"----------------------- \\n\")"
   ]
  },
  {
   "cell_type": "markdown",
   "metadata": {},
   "source": [
    "#### Checking our training set list for tokens and tags"
   ]
  },
  {
   "cell_type": "markdown",
   "metadata": {},
   "source": [
    "-----------------------------------"
   ]
  },
  {
   "cell_type": "markdown",
   "metadata": {},
   "source": [
    "# Data Pre-Processing"
   ]
  },
  {
   "cell_type": "markdown",
   "metadata": {},
   "source": [
    "#### To train our neural network, we will create a dictionary with two mappings:\n",
    "- token → token id: use integers as input data of KERAS embedding layer so that words can be represented     by dense vectors (More memory and computationally efficient than One-Hot Encoding)\n",
    "- tag → tag id: use integers for computing the loss at the output of the network.\n",
    "\n",
    "#### Note: Here we are considering that we have single-class labels, where an object can only belong to one class, i.e. each token belongs to a particular tag or vice-versa. Hence, we can use \"sparse_categorical_crossentropy\" instead of \"categorical_crossentropy\" as our loss function which requires one-hot-encoded vectors"
   ]
  },
  {
   "cell_type": "markdown",
   "metadata": {},
   "source": [
    "#### Note: We will also need to add some 'Special tokens and tags' to our dictionary. They will be unknown tokens and padding tokens/tags.\n",
    "- &lt;UNK&gt; token to represent of vocabulary tokens;\n",
    "- &lt;PAD&gt; tokens and tags for padding sentence to the same length when we create batches of sentences"
   ]
  },
  {
   "cell_type": "code",
   "execution_count": 8,
   "metadata": {},
   "outputs": [],
   "source": [
    "\"\"\" Dictionary to create mappings for tokens and tags \"\"\"\n",
    "\n",
    "def build_dict(tokens_or_tags, special_tokens):\n",
    "    \"\"\"\n",
    "        tokens_or_tags: a list of lists of tokens or tags\n",
    "        special_tokens: some special tokens\n",
    "    \"\"\"\n",
    "    # Create a dictionary with default value 0\n",
    "    tok2idx = defaultdict(lambda: 0)\n",
    "    idx2tok = []\n",
    "    \n",
    "# Note: First add special tokens and tags to the dictionaries and the first special token must have index 0\n",
    "# Here, first special token must be for \"pad\" as later on we can use an in-built KERAS function for masking\n",
    "# pads to avoid extra copmutations i.e. mask_zero which only applies for value 0 (index 0 here)\n",
    "    \n",
    "    k = 0\n",
    "    for line in special_tokens:\n",
    "        tok2idx[line] = k\n",
    "        k += 1\n",
    "        idx2tok.append(line)\n",
    "        \n",
    "    for tokens in tokens_or_tags:\n",
    "        for token in tokens:\n",
    "            if token not in tok2idx: \n",
    "                tok2idx[token] = k \n",
    "                k += 1\n",
    "                idx2tok.append(token)\n",
    "    \n",
    "    return tok2idx, idx2tok"
   ]
  },
  {
   "cell_type": "code",
   "execution_count": 9,
   "metadata": {},
   "outputs": [],
   "source": [
    "special_tokens = ['<PAD>', '<UNK>']\n",
    "special_tags = ['<PAD>']\n",
    "\n",
    "# Create dictionaries \n",
    "token2idx, idx2token = build_dict(train_tokens + val_tokens, special_tokens)\n",
    "tag2idx, idx2tag = build_dict(train_tags + val_tags , special_tags)"
   ]
  },
  {
   "cell_type": "markdown",
   "metadata": {},
   "source": [
    "####  Implemented the function build_dict and creating dictionaries for our tokens and tags.\n",
    "#### Note: We always consider test tokens and tags to be unseen/unknown and hence don't use them when creating our dicitonaries."
   ]
  },
  {
   "cell_type": "markdown",
   "metadata": {},
   "source": [
    "## Padding Input Sentences"
   ]
  },
  {
   "cell_type": "markdown",
   "metadata": {},
   "source": [
    "#### The LSTM layers only accepts sequences within a batch that are of same lengths. It means that weight updates of the network are based on several sequences at every single time. So we will pad shorter sequences within a batch with a special token (&lt;PAD&gt;) to match the length of the largest sequence in that batch, thus making all sequences of equal length for every batch. This technique is also known as bucketing"
   ]
  },
  {
   "cell_type": "markdown",
   "metadata": {},
   "source": [
    "#### We will define a function to generate batches of equal length which can then be fed into our neural network model. For this, we will define 3 functions :-\n",
    "* helper function to generate the number of batches for a given batch size\n",
    "* helper function to create list of the mapped id's from tokens when given a sentence\n",
    "* function for generating batches with sequences of equal lengths by applying padding using the 2 helper functions  "
   ]
  },
  {
   "cell_type": "code",
   "execution_count": 10,
   "metadata": {},
   "outputs": [],
   "source": [
    "def n_batches(batch_size, tokens, allow_smaller_last_batch = True):\n",
    "    n_samples = len(tokens)\n",
    "    n_batches = n_samples // batch_size                          ### '//' for floor division \n",
    "    if allow_smaller_last_batch and n_samples % batch_size:\n",
    "        n_batches += 1\n",
    "    return n_batches"
   ]
  },
  {
   "cell_type": "code",
   "execution_count": 11,
   "metadata": {},
   "outputs": [],
   "source": [
    "def words2idxs(tokens_list):\n",
    "    return [token2idx[word] for word in tokens_list]\n",
    "\n",
    "def tags2idxs(tags_list):\n",
    "    return [tag2idx[tag] for tag in tags_list]"
   ]
  },
  {
   "cell_type": "code",
   "execution_count": 12,
   "metadata": {},
   "outputs": [],
   "source": [
    "def batches_generator(batch_size, n_batches, tokens, tags,\n",
    "                      shuffle = True):\n",
    "    \"\"\"Generates padded batches of tokens and tags.\"\"\"\n",
    "    while True:                       ### 'while' loop used for looping through epochs in train.fit() \n",
    "        n_samples = len(tokens)\n",
    "        if shuffle:\n",
    "            order = np.random.permutation(n_samples)\n",
    "        else:\n",
    "            order = np.arange(n_samples)\n",
    "    \n",
    "        for k in range(n_batches):\n",
    "            batch_start = k * batch_size\n",
    "            batch_end = min((k + 1) * batch_size, n_samples)\n",
    "            current_batch_size = batch_end - batch_start\n",
    "            x_list = []\n",
    "            y_list = []\n",
    "            max_len_token = 0\n",
    "            for idx in order[batch_start: batch_end]:\n",
    "                x_list.append(words2idxs(tokens[idx]))\n",
    "                y_list.append(tags2idxs(tags[idx]))\n",
    "                max_len_token = max(max_len_token, len(tags[idx]))\n",
    "                \n",
    "            # Fill in the data into numpy nd-arrays filled with padding indices.\n",
    "            x = np.ones([current_batch_size, max_len_token], dtype=np.int32) * token2idx['<PAD>']\n",
    "            y = np.ones([current_batch_size, max_len_token], dtype=np.int32) * tag2idx['<PAD>']        \n",
    "            for n in range(current_batch_size):\n",
    "                utt_len = len(x_list[n])\n",
    "                x[n, :utt_len] = x_list[n]\n",
    "                y[n, :utt_len] = y_list[n]\n",
    "            yield x, y"
   ]
  },
  {
   "cell_type": "markdown",
   "metadata": {},
   "source": [
    "#### Note: We will provide RNN and loss function with sequence lengths, so it can skip computations for padding parts. For this we can use KERAS mask_zero param to remove the paddings parts for computation.\n",
    "#### Helper function 'n_batches' has to be separate from 'batches_generator' function as later on we will be using 'fit' method for training our model which requires number of batches as input for steps_per_epoch param when using a generator as input for X(input data) param. However, when using 'train_on_batch' method instead of 'fit' method we can include them in a single function as well. For a similar reason we have used a 'while' loop in 'batches_generator' function to loop through epochs which will be declared in our 'fit' method."
   ]
  },
  {
   "cell_type": "markdown",
   "metadata": {
    "tags": []
   },
   "source": [
    "# Implementing Model Architecture\n",
    "\n",
    "#### We will create an LSTM network which will produce probability distribution over tags for each token in a sentence. To take into account both right and left contexts of the token, we will use Bi-Directional LSTM (Bi-LSTM). Dense layer will be used on top to perform tag classification. We will use Keras Functional API to build our model.\n",
    "\n",
    "#### We will set our input shape as 'None' so that we can accept sequences of variable length\n",
    "\n",
    "#### 'mask_zero' param will be set to True in 'Embedding' layer so as to to avoid computations for padding tokens inside the RNN and also when computing loss function.\n",
    "\n",
    "#### We will set 'dropout' param in our RNN layer for regularization.\n",
    "\n",
    "#### Here we use 'Time Distributed Layer'(Many to Many architecture) instead of the single 'Dense Layer'(Many to One architecture) as output layer. The TimeDistributed applyies the same Dense layer (same weights) to the LSTMs outputs for one time step at a time. In this way, the output layer only needs one connection to each LSTM unit (plus one bias). For this reason, the number of training epochs needs to be increased to account for the smaller network capacity\n",
    "\n",
    "#### We will use 'softmax' in our activation function for output lyer, as it will provide us a multinominal probability distribution for our multi-label classification problem\n",
    "\n",
    "#### Our Loss Function will be \"sparse_categorical_crossentropy\" (No need for OHC, can use integers)"
   ]
  },
  {
   "cell_type": "markdown",
   "metadata": {},
   "source": [
    "#### The Embedding layer is defined as the first hidden layer of a network. It must specify 3 arguments:\n",
    "\n",
    "- input_dim: This is the size of the vocabulary in the text data. Here, it will length of token dictionary   consisting of \n",
    "- output_dim: This is the size of the vector space in which words will be embedded. It defines the size of   the output vectors from this layer for each word. For example, it could be 32 or 100 or even larger.       Here, we will use 200.\n",
    "- input_length: This is the length of input sequences, as you would define for any input layer of a Keras model. Here, it will max sentence length from our training and validations dataset.\n",
    "\n",
    "#### Here we will use pre-trained GloVe (Global Vectors for Word Representation) Embedding"
   ]
  },
  {
   "cell_type": "markdown",
   "metadata": {},
   "source": [
    "## GloVE Embedding"
   ]
  },
  {
   "cell_type": "markdown",
   "metadata": {},
   "source": [
    "#### Use the following command to download pre-trained GloVe embeddings (a 822M zip file):-\n",
    "* !wget http://nlp.stanford.edu/data/glove.6B.zip\n",
    "* !unzip -q glove.6B.zip"
   ]
  },
  {
   "cell_type": "markdown",
   "metadata": {},
   "source": [
    "#### The archive contains text-encoded vectors of various sizes: 50-dimensional, 100-dimensional, 200-dimensional, 300-dimensional. We'll use the 100D ones, i.e. \"glove.6B.100d.txt“.  In the file we can see that the token (word) is followed by the weights (100 numbers) on each line.\n",
    "#### To use pre-trained GloVe embeddings we will have to perform the following steps:-\n",
    "* load the whole embedding into memory\n",
    "* prepare a corresponding embedding matrix that we can use in a Keras Embedding layer. It's a simple NumPy matrix where entry at index 'i' is the pre-trained vector for the word of index i in our vectorizer's vocabulary.\n",
    "* load the pre-trained word embeddings matrix into an Embedding layer.\n",
    "\n",
    "#### Note: Instead of loading the whole embedding into memory (speed up our process and save disk space), we can also filter the embeddings for the unique words in our training and validation data. To access the mapping of word to vector dictionary for our unique words we can use model.wv.vocab"
   ]
  },
  {
   "cell_type": "code",
   "execution_count": 13,
   "metadata": {},
   "outputs": [
    {
     "name": "stdout",
     "output_type": "stream",
     "text": [
      "Loaded 400000 word vectors.\n"
     ]
    }
   ],
   "source": [
    "# load the whole embedding into memory\n",
    "embeddings_index = dict()\n",
    "f = open('glove.6B.100d.txt')\n",
    "for line in f:\n",
    "    values = line.split()\n",
    "    word = values[0]\n",
    "    coefs = np.asarray(values[1:], dtype='float32')\n",
    "    embeddings_index[word] = coefs\n",
    "f.close()\n",
    "print('Loaded %s word vectors.' % len(embeddings_index))"
   ]
  },
  {
   "cell_type": "markdown",
   "metadata": {},
   "source": [
    "#### Embedding layer must be defined with output_dim set to 100, as we chose the 100-dimensional text-encoded vectors. Also, Embedding layer is seeded with the GloVe word embedding weights. "
   ]
  },
  {
   "cell_type": "code",
   "execution_count": 14,
   "metadata": {},
   "outputs": [],
   "source": [
    "input_dim = len(idx2token)\n",
    "output_dim = 100"
   ]
  },
  {
   "cell_type": "code",
   "execution_count": 15,
   "metadata": {},
   "outputs": [],
   "source": [
    "# Prepare embedding matrix\n",
    "embedding_matrix = np.zeros((input_dim, output_dim))\n",
    "for word, i in token2idx.items():\n",
    "    embedding_vector = embeddings_index.get(word)\n",
    "    if embedding_vector is not None:\n",
    "        # Words not found in embedding index will be all-zeros.\n",
    "        # This includes the representation for \"padding\" and \"OOV\"\n",
    "        embedding_matrix[i] = embedding_vector"
   ]
  },
  {
   "cell_type": "code",
   "execution_count": 18,
   "metadata": {},
   "outputs": [],
   "source": [
    "embed_layer = Embedding(input_dim = input_dim, output_dim = output_dim, \n",
    "                   trainable = False, mask_zero = True, \n",
    "                   embeddings_initializer = keras.initializers.Constant(embedding_matrix))"
   ]
  },
  {
   "cell_type": "markdown",
   "metadata": {},
   "source": [
    "#### Note: that we set trainable = False so as to keep the embeddings fixed (we don't want to update them (learned word weights) during training)"
   ]
  },
  {
   "cell_type": "markdown",
   "metadata": {},
   "source": [
    "#### The output dense layer length should be equal to number of labels i.e. tags"
   ]
  },
  {
   "cell_type": "code",
   "execution_count": 19,
   "metadata": {},
   "outputs": [],
   "source": [
    "num_tags = len(idx2tag)"
   ]
  },
  {
   "cell_type": "markdown",
   "metadata": {},
   "source": [
    "#### Initialized input and output parameters for our model"
   ]
  },
  {
   "cell_type": "markdown",
   "metadata": {},
   "source": [
    "## Setting Optimizer for our model"
   ]
  },
  {
   "cell_type": "markdown",
   "metadata": {},
   "source": [
    "#### We will use adam optimization algorithm with learning rate decay. The learning rate is a hyperparameter that controls how much to change the model in response to the estimated error each time the model weights are updated. An initially large learning rate suppresses the network from memorizing noisy data while decaying the learning rate improves the learning of complex patterns.\n",
    "#### Note: We can also use 'Adaptive Moment Estimation' instead of learning rate schedules method as it can be challenging to configure and is critical to the performance of a deep learning neural network model. \n",
    "\n",
    "#### We also apply clipping to eliminate exploding gradients. Here, we use 'global_clipnorm' function in KERAS which clips only gradients and not variables. Also, function 'clip_norm' clips the gradient of each weight independently of the gradients of the other weights and thus has the disadvantage of changing the descent direction, whereas with global_clipnorm the direction would remain unchanged."
   ]
  },
  {
   "cell_type": "code",
   "execution_count": 20,
   "metadata": {},
   "outputs": [],
   "source": [
    "lr_schedule = keras.optimizers.schedules.ExponentialDecay(\n",
    "    initial_learning_rate = 1e-2,\n",
    "    decay_steps = 10000,\n",
    "    decay_rate = 0.9)\n",
    "\n",
    "opt = keras.optimizers.Adam(learning_rate = lr_schedule, global_clipnorm = 1.0)"
   ]
  },
  {
   "cell_type": "markdown",
   "metadata": {},
   "source": [
    "## Callbacks"
   ]
  },
  {
   "cell_type": "markdown",
   "metadata": {},
   "source": [
    "#### We will use EarlyStopping and Tensorboard callbacks. \n",
    "\n",
    "#### EarlyStopping is used so that we don’t need to hard code the number of epochs. If our network doesn’t improve for 2 consecutive epochs,i.e. validation loss is not decreased we are going to stop our training process. The 'patience' param will define that and as we are monitoring loss, our 'mode' param will be min and also we will set 'restore_best_weights' param as True.\n",
    "\n",
    "#### We will also use Tensorboard to monitor and evaluate our data which has a lot of different options and settings."
   ]
  },
  {
   "cell_type": "code",
   "execution_count": 21,
   "metadata": {},
   "outputs": [],
   "source": [
    "# Load the TensorBoard notebook extension\n",
    "%load_ext tensorboard\n",
    "!rm -rf ./logs/"
   ]
  },
  {
   "cell_type": "code",
   "execution_count": 33,
   "metadata": {},
   "outputs": [],
   "source": [
    "log_dir = \"logs/fit/\" + datetime.datetime.now().strftime(\"%Y%m%d-%H%M%S\")\n",
    "\n",
    "tensorboard_cb = tf.keras.callbacks.TensorBoard(log_dir = log_dir, histogram_freq = 1,                                                 write_graph = True, write_images = True, \n",
    "                                                update_freq = 'epoch', profile_batch = 2,\n",
    "                                                embeddings_freq = 1)\n",
    "\n",
    "early_stopping = tf.keras.callbacks.EarlyStopping(monitor ='val_loss', min_delta = 0, patience = 2, \n",
    "                                                  verbose = 0, mode = 'min', baseline = None, \n",
    "                                                  restore_best_weights = True)\n",
    "\n",
    "callbacks = [tensorboard_cb, early_stopping]"
   ]
  },
  {
   "cell_type": "markdown",
   "metadata": {},
   "source": [
    "## KERAS BI-LSTM Model"
   ]
  },
  {
   "cell_type": "code",
   "execution_count": 34,
   "metadata": {},
   "outputs": [
    {
     "name": "stdout",
     "output_type": "stream",
     "text": [
      "Model: \"model_1\"\n",
      "_________________________________________________________________\n",
      "Layer (type)                 Output Shape              Param #   \n",
      "=================================================================\n",
      "input_2 (InputLayer)         [(None, None)]            0         \n",
      "_________________________________________________________________\n",
      "embedding (Embedding)        (None, None, 100)         2050500   \n",
      "_________________________________________________________________\n",
      "bidirectional_1 (Bidirection (None, None, 200)         160800    \n",
      "_________________________________________________________________\n",
      "time_distributed_1 (TimeDist (None, None, 22)          4422      \n",
      "=================================================================\n",
      "Total params: 2,215,722\n",
      "Trainable params: 165,222\n",
      "Non-trainable params: 2,050,500\n",
      "_________________________________________________________________\n"
     ]
    }
   ],
   "source": [
    "input_seq = Input(shape = (None,))\n",
    "model = (embed_layer)(input_seq)\n",
    "\n",
    "forward_layer = keras.layers.RNN(\n",
    "            keras.layers.LSTMCell(100, dropout = 0.5), return_sequences = True)\n",
    "backward_layer = keras.layers.RNN(\n",
    "            keras.layers.LSTMCell(100, dropout = 0.5), return_sequences = True, go_backwards = True)\n",
    "\n",
    "model = (Bidirectional(forward_layer, backward_layer = backward_layer))(model)\n",
    "out = (TimeDistributed(Dense(num_tags, activation = \"softmax\")))(model)\n",
    "\n",
    "model = Model(input_seq, out)\n",
    "\n",
    "model.compile(optimizer = opt, loss=\"sparse_categorical_crossentropy\", metrics=[\"Accuracy\"])\n",
    "\n",
    "model.summary()"
   ]
  },
  {
   "cell_type": "markdown",
   "metadata": {},
   "source": [
    "#### After compiling, we will train our data and conduct more experiments as needed to tune our hyperparameters, to obtain higher accuracy on the held-out validation dataset.\n",
    "#### The hyperparameters for our model are :- batch_size, epochs, learning_rate params, global_clip_norm, dropout.\n",
    "#### For training our model we will be using 'fit' method but in 'x' param (input data) and 'validation_data' param we will use a generator as sequences are of different lengths. Also, as we will be using a generator we will have assign values for 'steps_per_epoch' and 'validation_steps' pararms instead of batch_size.\n",
    "#### To use a generator for training our model we will define a function which will make use of 'n_batches' and 'batches_generator' functions defined earlier."
   ]
  },
  {
   "cell_type": "code",
   "execution_count": 37,
   "metadata": {},
   "outputs": [],
   "source": [
    "\"\"\" To train a model using a Generator \"\"\"\n",
    "\n",
    "def train_model(x_train , y_train, x_val = None, y_val = None, batch_size = 32, epochs = 2, verbose = 1):    \n",
    "    n_batch_train = n_batches(batch_size, x_train)    \n",
    "    if x_val:\n",
    "        n_batch_val = n_batches(batch_size, x_val)\n",
    "\n",
    "    history = model.fit(\n",
    "        x = batches_generator(batch_size, n_batch_train, x_train, y_train, epochs),\n",
    "        y = None,\n",
    "        steps_per_epoch = n_batch_train,\n",
    "        validation_data = batches_generator(batch_size, n_batch_val, x_val, y_val, epochs),\n",
    "        validation_steps = n_batch_val,\n",
    "        epochs = epochs,\n",
    "        verbose = verbose,\n",
    "        callbacks = callbacks\n",
    "    )\n",
    "    return history"
   ]
  },
  {
   "cell_type": "code",
   "execution_count": 38,
   "metadata": {},
   "outputs": [
    {
     "name": "stdout",
     "output_type": "stream",
     "text": [
      "Epoch 1/10\n",
      "182/182 [==============================] - 43s 235ms/step - loss: 0.1978 - Accuracy: 0.9242 - val_loss: 0.1827 - val_Accuracy: 0.9250\n",
      "Epoch 2/10\n",
      "182/182 [==============================] - 39s 216ms/step - loss: 0.1924 - Accuracy: 0.9241 - val_loss: 0.1786 - val_Accuracy: 0.9252\n",
      "Epoch 3/10\n",
      "182/182 [==============================] - 38s 209ms/step - loss: 0.1818 - Accuracy: 0.9262 - val_loss: 0.1725 - val_Accuracy: 0.9280\n",
      "Epoch 4/10\n",
      "182/182 [==============================] - 37s 201ms/step - loss: 0.1784 - Accuracy: 0.9268 - val_loss: 0.1664 - val_Accuracy: 0.9291\n",
      "Epoch 5/10\n",
      "182/182 [==============================] - 39s 213ms/step - loss: 0.1732 - Accuracy: 0.9275 - val_loss: 0.1735 - val_Accuracy: 0.9244\n",
      "Epoch 6/10\n",
      "182/182 [==============================] - 38s 208ms/step - loss: 0.1726 - Accuracy: 0.9277 - val_loss: 0.1617 - val_Accuracy: 0.9286\n",
      "Epoch 7/10\n",
      "182/182 [==============================] - 40s 217ms/step - loss: 0.1691 - Accuracy: 0.9280 - val_loss: 0.1577 - val_Accuracy: 0.9310\n",
      "Epoch 8/10\n",
      "182/182 [==============================] - 39s 213ms/step - loss: 0.1663 - Accuracy: 0.9291 - val_loss: 0.1657 - val_Accuracy: 0.9295\n",
      "Epoch 9/10\n",
      "182/182 [==============================] - 38s 207ms/step - loss: 0.1625 - Accuracy: 0.9300 - val_loss: 0.1587 - val_Accuracy: 0.9294\n"
     ]
    }
   ],
   "source": [
    "history = train_model(train_tokens, train_tags, val_tokens, val_tags, batch_size = 32, epochs = 10)"
   ]
  },
  {
   "cell_type": "markdown",
   "metadata": {},
   "source": [
    "#### Note: When evaluating results for each epoch, be careful to not use custom metrics (F1/F2 score) directly through keras metric function that is calculated during training(fit) as it is done on batches (not together) and might show misleading results. Keras inbuilt metrics (tensorflow 2) use specialised built-in accumulators, and the computations are made properly. However, note it is possible to use custom metrics by other methods like backend utilities, callbacks, base layer API's."
   ]
  },
  {
   "cell_type": "code",
   "execution_count": 40,
   "metadata": {},
   "outputs": [
    {
     "data": {
      "image/png": "[encoded data removed]",
      "text/plain": [
       "<Figure size 576x576 with 1 Axes>"
      ]
     },
     "metadata": {
      "needs_background": "light"
     },
     "output_type": "display_data"
    }
   ],
   "source": [
    "loss = history.history['loss']\n",
    "val_loss = history.history['val_loss']\n",
    "plt.figure(figsize = (8, 8))\n",
    "epochs = range(1, len(loss) + 1)\n",
    "\n",
    "plt.plot(epochs, loss, 'bo', label='Training loss')\n",
    "plt.plot(epochs, val_loss, 'b', label='Validation loss')\n",
    "plt.title('Training and validation loss')\n",
    "plt.legend()\n",
    "plt.show()"
   ]
  },
  {
   "cell_type": "markdown",
   "metadata": {
    "tags": []
   },
   "source": [
    "#### We observe our training loss is still decreasing at 10 epochs and validation loss is fluctating and might decrease further. We can increase the number of epochs to check the future trend of our losses and our model might still be underfitting."
   ]
  },
  {
   "cell_type": "code",
   "execution_count": 39,
   "metadata": {},
   "outputs": [
    {
     "data": {
      "text/html": [
       "\n",
       "      <iframe id=\"tensorboard-frame-b521233766fbc8\" width=\"100%\" height=\"800\" frameborder=\"0\">\n",
       "      </iframe>\n",
       "      <script>\n",
       "        (function() {\n",
       "          const frame = document.getElementById(\"tensorboard-frame-b521233766fbc8\");\n",
       "          const url = new URL(\"/\", window.location);\n",
       "          const port = 6006;\n",
       "          if (port) {\n",
       "            url.port = port;\n",
       "          }\n",
       "          frame.src = url;\n",
       "        })();\n",
       "      </script>\n",
       "    "
      ],
      "text/plain": [
       "<IPython.core.display.HTML object>"
      ]
     },
     "metadata": {},
     "output_type": "display_data"
    }
   ],
   "source": [
    "%tensorboard --logdir logs/fit"
   ]
  },
  {
   "cell_type": "markdown",
   "metadata": {
    "jp-MarkdownHeadingCollapsed": true,
    "tags": []
   },
   "source": [
    "#### From Tensorboard, we can monitor and evaluate various options, like scalars, graphs, distributions, histogram, embeddings,profiler etc"
   ]
  },
  {
   "cell_type": "markdown",
   "metadata": {},
   "source": [
    "## Evaluation on Test Dataset"
   ]
  },
  {
   "cell_type": "markdown",
   "metadata": {
    "jp-MarkdownHeadingCollapsed": true,
    "tags": []
   },
   "source": [
    "#### We will be using CoNLL-2003 shared task as our evaluation metric. It measures the performance of the systems in terms of precision, recall and f1-score, where: \n",
    "- precision is the percentage of named entities found by the learning system that are correct. \n",
    "- Recall is the percentage of named entities present in the corpus that are found by the system. \n",
    "- A named entity is correct only if it is an exact match of the corresponding entity in the data file.\n",
    "#### We consider 3 scenarios here, namely :-\n",
    "- Surface string and entity type match\n",
    "- System hypothesized an entity\n",
    "- System misses an entity\n",
    "\n",
    "#### Note: We can use other evaluation metric for NER like Automatic Content Extraction (ACE) or Message Understanding Conference (MUC) which considers other scenarios for partial matches as well."
   ]
  },
  {
   "cell_type": "markdown",
   "metadata": {},
   "source": [
    "#### Define a function which will calculate our evaluation metrics as per CoNLL-2003 evaluation scheme"
   ]
  },
  {
   "cell_type": "code",
   "execution_count": 41,
   "metadata": {},
   "outputs": [],
   "source": [
    "from collections import OrderedDict\n",
    "\n",
    "def _update_chunk(candidate, prev, current_tag, current_chunk, current_pos, prediction=False):\n",
    "    if candidate == 'B-' + current_tag:\n",
    "        if len(current_chunk) > 0 and len(current_chunk[-1]) == 1:\n",
    "                current_chunk[-1].append(current_pos - 1)\n",
    "        current_chunk.append([current_pos])\n",
    "    elif candidate == 'I-' + current_tag:\n",
    "        if prediction and (current_pos == 0 or current_pos > 0 and prev.split('-', 1)[-1] != current_tag):\n",
    "            current_chunk.append([current_pos])\n",
    "        if not prediction and (current_pos == 0 or current_pos > 0 and prev == 'O'):\n",
    "            current_chunk.append([current_pos])\n",
    "    elif current_pos > 0 and prev.split('-', 1)[-1] == current_tag:\n",
    "        if len(current_chunk) > 0:\n",
    "            current_chunk[-1].append(current_pos - 1)\n",
    "\n",
    "def _update_last_chunk(current_chunk, current_pos):\n",
    "    if len(current_chunk) > 0 and len(current_chunk[-1]) == 1:\n",
    "        current_chunk[-1].append(current_pos - 1)\n",
    "\n",
    "def _tag_precision_recall_f1(tp, fp, fn):\n",
    "    precision, recall, f1 = 0, 0, 0\n",
    "    if tp + fp > 0:\n",
    "        precision = tp / (tp + fp) * 100\n",
    "    if tp + fn > 0:\n",
    "        recall = tp / (tp + fn) * 100\n",
    "    if precision + recall > 0:\n",
    "        f1 = 2 * precision * recall / (precision + recall)\n",
    "    return precision, recall, f1\n",
    "\n",
    "def _aggregate_metrics(results, total_correct):\n",
    "    total_true_entities = 0\n",
    "    total_predicted_entities = 0\n",
    "    total_precision = 0\n",
    "    total_recall = 0\n",
    "    total_f1 = 0\n",
    "    for tag, tag_metrics in results.items():\n",
    "        n_pred = tag_metrics['n_predicted_entities']\n",
    "        n_true = tag_metrics['n_true_entities']\n",
    "        total_true_entities += n_true\n",
    "        total_predicted_entities += n_pred\n",
    "        total_precision += tag_metrics['precision'] * n_pred\n",
    "        total_recall += tag_metrics['recall'] * n_true\n",
    "    \n",
    "    accuracy = 0\n",
    "    if total_true_entities > 0:\n",
    "        accuracy = total_correct / total_true_entities * 100\n",
    "    else:\n",
    "        print('CAUTION! Accuracy equals zero because there are no '\\\n",
    "              'correct entities. Check the correctness of your data.')\n",
    "    if total_predicted_entities > 0:\n",
    "        total_precision = total_precision / total_predicted_entities\n",
    "    total_recall = total_recall / total_true_entities\n",
    "    if total_precision + total_recall > 0:\n",
    "        total_f1 = 2 * total_precision * total_recall / (total_precision + total_recall)\n",
    "    return total_true_entities, total_predicted_entities, \\\n",
    "           total_precision, total_recall, total_f1, accuracy\n",
    "\n",
    "def _print_info(n_tokens, total_true_entities, total_predicted_entities, total_correct):\n",
    "    print('processed {len} tokens ' \\\n",
    "          'with {tot_true} phrases; ' \\\n",
    "          'found: {tot_pred} phrases; ' \\\n",
    "          'correct: {tot_cor}.\\n'.format(len=n_tokens,\n",
    "                                         tot_true=total_true_entities,\n",
    "                                         tot_pred=total_predicted_entities,\n",
    "                                         tot_cor=total_correct))\n",
    "\n",
    "def _print_metrics(accuracy, total_precision, total_recall, total_f1):\n",
    "    print('precision:  {tot_prec:.2f}%; ' \\\n",
    "          'recall:  {tot_recall:.2f}%; ' \\\n",
    "          'F1:  {tot_f1:.2f}%\\n'.format(acc=accuracy,\n",
    "                                           tot_prec=total_precision,\n",
    "                                           tot_recall=total_recall,\n",
    "                                           tot_f1=total_f1))\n",
    "\n",
    "def _print_tag_metrics(tag, tag_results):\n",
    "    print(('\\t%12s' % tag) + ': precision:  {tot_prec:6.2f}%; ' \\\n",
    "                               'recall:  {tot_recall:6.2f}%; ' \\\n",
    "                               'F1:  {tot_f1:6.2f}; ' \\\n",
    "                               'predicted:  {tot_predicted:4d}\\n'.format(tot_prec=tag_results['precision'],\n",
    "                                                                         tot_recall=tag_results['recall'],\n",
    "                                                                         tot_f1=tag_results['f1'],\n",
    "                                                                         tot_predicted=tag_results['n_predicted_entities']))\n",
    "\n",
    "def precision_recall_f1(y_true, y_pred, print_results=True, short_report=False):\n",
    "    # Find all tags\n",
    "    tags = sorted(set(tag[2:] for tag in y_true + y_pred if tag != 'O'))\n",
    "\n",
    "    results = OrderedDict((tag, OrderedDict()) for tag in tags)\n",
    "    n_tokens = len(y_true)\n",
    "    total_correct = 0\n",
    "\n",
    "    # For eval_conll_try we find all chunks in the ground truth and prediction\n",
    "    # For each chunk we store starting and ending indices\n",
    "    for tag in tags:\n",
    "        true_chunk = list()\n",
    "        predicted_chunk = list()\n",
    "        for position in range(n_tokens):\n",
    "            _update_chunk(y_true[position], y_true[position - 1], tag, true_chunk, position)\n",
    "            _update_chunk(y_pred[position], y_pred[position - 1], tag, predicted_chunk, position, True)\n",
    "\n",
    "        _update_last_chunk(true_chunk, position)\n",
    "        _update_last_chunk(predicted_chunk, position)\n",
    "\n",
    "        # Then we find all correctly classified intervals\n",
    "        # True positive results\n",
    "        tp = sum(chunk in predicted_chunk for chunk in true_chunk)\n",
    "        total_correct += tp\n",
    "\n",
    "        # And then just calculate errors of the first and second kind\n",
    "        # False negative\n",
    "        fn = len(true_chunk) - tp\n",
    "        # False positive\n",
    "        fp = len(predicted_chunk) - tp\n",
    "        precision, recall, f1 = _tag_precision_recall_f1(tp, fp, fn)\n",
    "\n",
    "        results[tag]['precision'] = precision\n",
    "        results[tag]['recall'] = recall\n",
    "        results[tag]['f1'] = f1\n",
    "        results[tag]['n_predicted_entities'] = len(predicted_chunk)\n",
    "        results[tag]['n_true_entities'] = len(true_chunk)\n",
    "\n",
    "    total_true_entities, total_predicted_entities, \\\n",
    "           total_precision, total_recall, total_f1, accuracy = _aggregate_metrics(results, total_correct)\n",
    "\n",
    "    if print_results:\n",
    "        _print_info(n_tokens, total_true_entities, total_predicted_entities, total_correct)\n",
    "        _print_metrics(accuracy, total_precision, total_recall, total_f1)\n",
    "\n",
    "        if not short_report:\n",
    "            for tag, tag_results in results.items():\n",
    "                _print_tag_metrics(tag, tag_results)\n",
    "    return results"
   ]
  },
  {
   "cell_type": "code",
   "execution_count": 42,
   "metadata": {},
   "outputs": [],
   "source": [
    "def predict_tags(token_idxs_):\n",
    "    \"\"\"Performs predictions and transforms indices to tokens and tags.\"\"\"\n",
    "    \n",
    "    token_idxs_batch = np.expand_dims(token_idxs_,0)\n",
    "    tag_idxs_batch = model.predict(token_idxs_batch)\n",
    "    tag_idxs_batch = np.argmax(tag_idxs_batch, axis = -1)\n",
    "\n",
    "    tags_batch, tokens_batch = [], []\n",
    "    for tag_idxs, token_idxs in zip(tag_idxs_batch, token_idxs_batch):\n",
    "        tags, tokens = [], []\n",
    "        for tag_idx, token_idx in zip(tag_idxs, token_idxs):            \n",
    "            tags.append(idx2tag[tag_idx])\n",
    "            tokens.append(idx2token[token_idx])\n",
    "        tags_batch.append(tags)\n",
    "        tokens_batch.append(tokens)        \n",
    "    return tags_batch, tokens_batch\n",
    "    \n",
    "    \n",
    "def eval_conll(tokens, tags, short_report = True):\n",
    "    \"\"\"Computes NER quality measures using CONLL shared task script.\"\"\"\n",
    "    y_true, y_pred = [], []\n",
    "\n",
    "    for x_batch, y_batch in zip(tokens, tags):\n",
    "        x_batch_id = words2idxs(x_batch)\n",
    "        y_batch_id = tags2idxs(y_batch)\n",
    "        tags_batch, tokens_batch = predict_tags(x_batch_id)\n",
    "        y_true_batch = np.expand_dims(y_batch_id,0)      \n",
    "        \n",
    "        predicted_tags = []\n",
    "        ground_truth_tags = []\n",
    "        for gt_tag_idx, pred_tag, token in zip(y_true_batch[0], tags_batch[0], tokens_batch[0]): \n",
    "            if token != '<PAD>':\n",
    "                ground_truth_tags.append(idx2tag[gt_tag_idx])\n",
    "                predicted_tags.append(pred_tag)\n",
    "\n",
    "        # We extend every prediction and ground truth sequence with 'O' tag\n",
    "        # to indicate a possible end of entity.\n",
    "        y_true.extend(ground_truth_tags + ['O'])\n",
    "        y_pred.extend(predicted_tags + ['O'])\n",
    "          \n",
    "    results = precision_recall_f1(y_true, y_pred, print_results = True, short_report = short_report)\n",
    "    return (results)"
   ]
  },
  {
   "cell_type": "markdown",
   "metadata": {},
   "source": [
    "#### After defining  our evaluation metrics, we can finally evaualte our test dataset."
   ]
  },
  {
   "cell_type": "code",
   "execution_count": 43,
   "metadata": {},
   "outputs": [
    {
     "name": "stdout",
     "output_type": "stream",
     "text": [
      "processed 11742 tokens with 425 phrases; found: 123 phrases; correct: 56.\n",
      "\n",
      "precision:  45.53%; recall:  13.18%; F1:  20.44%\n",
      "\n",
      "\t     company: precision:   80.00%; recall:    7.02%; F1:   12.90; predicted:     5\n",
      "\n",
      "\t    facility: precision:   37.21%; recall:   39.02%; F1:   38.10; predicted:    43\n",
      "\n",
      "\t     geo-loc: precision:   64.71%; recall:   27.27%; F1:   38.37; predicted:    51\n",
      "\n",
      "\t       movie: precision:    0.00%; recall:    0.00%; F1:    0.00; predicted:     0\n",
      "\n",
      "\t musicartist: precision:    0.00%; recall:    0.00%; F1:    0.00; predicted:     0\n",
      "\n",
      "\t       other: precision:    6.67%; recall:    1.32%; F1:    2.20; predicted:    15\n",
      "\n",
      "\t      person: precision:   22.22%; recall:    2.86%; F1:    5.06; predicted:     9\n",
      "\n",
      "\t     product: precision:    0.00%; recall:    0.00%; F1:    0.00; predicted:     0\n",
      "\n",
      "\t  sportsteam: precision:    0.00%; recall:    0.00%; F1:    0.00; predicted:     0\n",
      "\n",
      "\t      tvshow: precision:    0.00%; recall:    0.00%; F1:    0.00; predicted:     0\n",
      "\n"
     ]
    }
   ],
   "source": [
    "test_results = eval_conll(test_tokens, test_tags, short_report = False)"
   ]
  },
  {
   "cell_type": "markdown",
   "metadata": {},
   "source": [
    "#### We observe a F1 score of about 21%. We can conduct more experiments to tune our hyperparameters and compare our results."
   ]
  },
  {
   "cell_type": "markdown",
   "metadata": {},
   "source": [
    "## Conclusion"
   ]
  },
  {
   "cell_type": "markdown",
   "metadata": {},
   "source": [
    "#### For our small training corpora (in comparison with usual sizes of corpora in Deep Learning), our results are very poor in comparison to the previous methods. As mentioned earlier, our model might also be underfitting and we could increase the number of epochs to see if it improves our prediction. We could try pre-trained GloVe embedding in combination with Dense layer in output(previous models) or try using TimeDistributed layer without using Glove Embedding. We could also try using some other pre-trained embedding like 'Gensim's Wordtovec', ''Google's word2cec', 'Wikipedia2Vec', 'SpaCy' etc."
   ]
  }
 ],
 "metadata": {
  "kernelspec": {
   "display_name": "Python 3 (ipykernel)",
   "language": "python",
   "name": "python3"
  },
  "language_info": {
   "codemirror_mode": {
    "name": "ipython",
    "version": 3
   },
   "file_extension": ".py",
   "mimetype": "text/x-python",
   "name": "python",
   "nbconvert_exporter": "python",
   "pygments_lexer": "ipython3",
   "version": "3.9.7"
  }
 },
 "nbformat": 4,
 "nbformat_minor": 4
}
